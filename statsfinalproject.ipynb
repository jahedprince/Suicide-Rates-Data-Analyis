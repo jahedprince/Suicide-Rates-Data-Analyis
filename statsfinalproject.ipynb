{
 "cells": [
  {
   "cell_type": "markdown",
   "metadata": {},
   "source": [
    "### Jahed Prince \n",
    "## Suicide (Final Project)"
   ]
  },
  {
   "cell_type": "markdown",
   "metadata": {},
   "source": [
    "Suicide is an intense complex issue that occurs throughout the world, affecting hundreds of thousands of individuals every year around the world.  It is an extremely sensitive topic and one that society tends to ignore. The stigma around mental illnesses and suicide should be removed from society and discussed openly. Furthermore, it’s important that we speak more on it so we can find the best approaches toward prevention. \n",
    "\n",
    "My goal for this project is to explore the statisitcs of suicide rates by conitnent, age, gender, and income. I will also look to see if there is a statisically significant difference in the suicide rates between men and women. By finding these different statistics, I gain to bring more awareness to this topic. \n",
    "\n",
    "The data that I will be using to pull this from Wikipedia and the World Health Organization. I've pulled it down to my local computer for ease of use.\n",
    "\n",
    "I'll first import the necessary packages down, as well as downloading and cleaning the data. "
   ]
  },
  {
   "cell_type": "code",
   "execution_count": 43,
   "metadata": {},
   "outputs": [],
   "source": [
    "import pandas as pd\n",
    "import scipy.stats as stats\n",
    "import numpy as np\n",
    "import matplotlib.pyplot as plt\n",
    "import seaborn as sns\n",
    "%matplotlib inline"
   ]
  },
  {
   "cell_type": "markdown",
   "metadata": {},
   "source": [
    "### Suicide Rates by Continent"
   ]
  },
  {
   "cell_type": "markdown",
   "metadata": {},
   "source": [
    "First I'll do an exploratory analysis of suicide rates by continent to see how suicide rates differ throughout the world."
   ]
  },
  {
   "cell_type": "markdown",
   "metadata": {},
   "source": [
    "The data that I will be using to pull this is from the World Health Organization, located [here](http://apps.who.int/gho/data/node.sdg.3-4-data?lang=en). I've pulled it down to my local computer for ease of use."
   ]
  },
  {
   "cell_type": "code",
   "execution_count": 44,
   "metadata": {},
   "outputs": [],
   "source": [
    "country = pd.read_csv('data.csv', header=0)\n",
    "continents = pd.read_csv('continents.csv')\n",
    "new_df = country.merge(continents, how='inner', left_on='Country', right_on='Country(or dependent territory)')"
   ]
  },
  {
   "cell_type": "code",
   "execution_count": 45,
   "metadata": {},
   "outputs": [
    {
     "data": {
      "text/html": [
       "<div>\n",
       "<style scoped>\n",
       "    .dataframe tbody tr th:only-of-type {\n",
       "        vertical-align: middle;\n",
       "    }\n",
       "\n",
       "    .dataframe tbody tr th {\n",
       "        vertical-align: top;\n",
       "    }\n",
       "\n",
       "    .dataframe thead th {\n",
       "        text-align: right;\n",
       "    }\n",
       "</style>\n",
       "<table border=\"1\" class=\"dataframe\">\n",
       "  <thead>\n",
       "    <tr style=\"text-align: right;\">\n",
       "      <th></th>\n",
       "      <th>Country</th>\n",
       "      <th>Both sexes  (per 100 000 population)</th>\n",
       "      <th>Continent</th>\n",
       "    </tr>\n",
       "  </thead>\n",
       "  <tbody>\n",
       "    <tr>\n",
       "      <th>0</th>\n",
       "      <td>Afghanistan</td>\n",
       "      <td>4.7</td>\n",
       "      <td>Asia</td>\n",
       "    </tr>\n",
       "    <tr>\n",
       "      <th>1</th>\n",
       "      <td>Albania</td>\n",
       "      <td>6.3</td>\n",
       "      <td>Europe</td>\n",
       "    </tr>\n",
       "    <tr>\n",
       "      <th>2</th>\n",
       "      <td>Algeria</td>\n",
       "      <td>3.2</td>\n",
       "      <td>Africa</td>\n",
       "    </tr>\n",
       "    <tr>\n",
       "      <th>3</th>\n",
       "      <td>Angola</td>\n",
       "      <td>4.7</td>\n",
       "      <td>Africa</td>\n",
       "    </tr>\n",
       "    <tr>\n",
       "      <th>4</th>\n",
       "      <td>Antigua and Barbuda</td>\n",
       "      <td>0.5</td>\n",
       "      <td>North America</td>\n",
       "    </tr>\n",
       "  </tbody>\n",
       "</table>\n",
       "</div>"
      ],
      "text/plain": [
       "               Country  Both sexes  (per 100 000 population)      Continent\n",
       "0          Afghanistan                                   4.7           Asia\n",
       "1              Albania                                   6.3         Europe\n",
       "2              Algeria                                   3.2         Africa\n",
       "3               Angola                                   4.7         Africa\n",
       "4  Antigua and Barbuda                                   0.5  North America"
      ]
     },
     "execution_count": 45,
     "metadata": {},
     "output_type": "execute_result"
    }
   ],
   "source": [
    "new_df = new_df[['Country', 'Both sexes  (per 100 000 population)', 'Continent']]\n",
    "new_df.head()"
   ]
  },
  {
   "cell_type": "code",
   "execution_count": 46,
   "metadata": {},
   "outputs": [
    {
     "data": {
      "text/plain": [
       "<matplotlib.legend.Legend at 0x1a19545550>"
      ]
     },
     "execution_count": 46,
     "metadata": {},
     "output_type": "execute_result"
    },
    {
     "data": {
      "image/png": "[encoded data removed]",
      "text/plain": [
       "<Figure size 504x504 with 1 Axes>"
      ]
     },
     "metadata": {
      "needs_background": "light"
     },
     "output_type": "display_data"
    }
   ],
   "source": [
    "fig = plt.figure(figsize=(7,7))\n",
    "sns.boxplot(x='Continent', y='Both sexes  (per 100 000 population)', data=new_df)\n",
    "plt.title('Suicide Rates by Continent in 2015')\n",
    "plt.gca().legend(new_df['Continent'].unique())\n",
    "sns.boxplot(x='Continent', y='Both sexes  (per 100 000 population)', data=new_df)\n",
    "plt.title('Suicide Rates by Continent in 2015')\n",
    "plt.gca().legend(new_df['Continent'].unique())"
   ]
  },
  {
   "cell_type": "markdown",
   "metadata": {},
   "source": [
    "As we can see in the boxplot above, Europe has the highest suicide rate and North America has the lowest suicide rate. "
   ]
  },
  {
   "cell_type": "markdown",
   "metadata": {},
   "source": [
    "### Relationship Between Family Income & Suicide Rates"
   ]
  },
  {
   "cell_type": "markdown",
   "metadata": {},
   "source": [
    "Now I will see how income has an affect on suicide rates. The data that I will be using to pull this is from Wikipedia, located [here](https://en.wikipedia.org/wiki/List_of_countries_by_suicide_rate#cite_note-22)."
   ]
  },
  {
   "cell_type": "code",
   "execution_count": 39,
   "metadata": {},
   "outputs": [
    {
     "name": "stdout",
     "output_type": "stream",
     "text": [
      "8\n"
     ]
    }
   ],
   "source": [
    "tables = pd.read_html('https://en.wikipedia.org/wiki/List_of_countries_by_suicide_rate#cite_note-22')\n",
    "print(len(tables))"
   ]
  },
  {
   "cell_type": "code",
   "execution_count": 40,
   "metadata": {},
   "outputs": [],
   "source": [
    "income = pd.read_html('https://en.wikipedia.org/wiki/List_of_countries_by_suicide_rate#cite_note-22', header=0)[3]"
   ]
  },
  {
   "cell_type": "code",
   "execution_count": 41,
   "metadata": {},
   "outputs": [
    {
     "data": {
      "text/html": [
       "<div>\n",
       "<style scoped>\n",
       "    .dataframe tbody tr th:only-of-type {\n",
       "        vertical-align: middle;\n",
       "    }\n",
       "\n",
       "    .dataframe tbody tr th {\n",
       "        vertical-align: top;\n",
       "    }\n",
       "\n",
       "    .dataframe thead th {\n",
       "        text-align: right;\n",
       "    }\n",
       "</style>\n",
       "<table border=\"1\" class=\"dataframe\">\n",
       "  <thead>\n",
       "    <tr style=\"text-align: right;\">\n",
       "      <th></th>\n",
       "      <th>Income group (% of global pop)</th>\n",
       "      <th>Suicides, 2012(in thousands)</th>\n",
       "    </tr>\n",
       "  </thead>\n",
       "  <tbody>\n",
       "    <tr>\n",
       "      <th>0</th>\n",
       "      <td>High-income countries (18.3%)</td>\n",
       "      <td>197</td>\n",
       "    </tr>\n",
       "    <tr>\n",
       "      <th>1</th>\n",
       "      <td>Upper-middle-income countries (34.3%)</td>\n",
       "      <td>192</td>\n",
       "    </tr>\n",
       "    <tr>\n",
       "      <th>2</th>\n",
       "      <td>Lower-middle-income countries (35.4%)</td>\n",
       "      <td>333</td>\n",
       "    </tr>\n",
       "    <tr>\n",
       "      <th>3</th>\n",
       "      <td>Low-income countries (12.0%)</td>\n",
       "      <td>82</td>\n",
       "    </tr>\n",
       "    <tr>\n",
       "      <th>4</th>\n",
       "      <td>Global (100.0%)</td>\n",
       "      <td>804</td>\n",
       "    </tr>\n",
       "  </tbody>\n",
       "</table>\n",
       "</div>"
      ],
      "text/plain": [
       "          Income group (% of global pop)  Suicides, 2012(in thousands)\n",
       "0          High-income countries (18.3%)                           197\n",
       "1  Upper-middle-income countries (34.3%)                           192\n",
       "2  Lower-middle-income countries (35.4%)                           333\n",
       "3           Low-income countries (12.0%)                            82\n",
       "4                        Global (100.0%)                           804"
      ]
     },
     "execution_count": 41,
     "metadata": {},
     "output_type": "execute_result"
    }
   ],
   "source": [
    "income[['Income group (% of global pop)', 'Suicides, 2012(in thousands)']].head()"
   ]
  },
  {
   "cell_type": "code",
   "execution_count": 42,
   "metadata": {},
   "outputs": [
    {
     "data": {
      "text/plain": [
       "Text(0.5, 0, 'Income Group (% of Global Population)')"
      ]
     },
     "execution_count": 42,
     "metadata": {},
     "output_type": "execute_result"
    },
    {
     "data": {
      "image/png": "[encoded data removed]",
      "text/plain": [
       "<Figure size 432x288 with 1 Axes>"
      ]
     },
     "metadata": {
      "needs_background": "light"
     },
     "output_type": "display_data"
    }
   ],
   "source": [
    "income.head().plot.bar(x='Income group (% of global pop)', y='Suicides, 2012(in thousands)', legend=False)\n",
    "plt. ylabel('Suicides (in thousands)')\n",
    "plt.title('Sucide Rates vs. Income Group in 2012')\n",
    "plt.xlabel('Income Group (% of Global Population)')"
   ]
  },
  {
   "cell_type": "markdown",
   "metadata": {},
   "source": [
    "The bar plot above shows that lower-middle income countries have the highest suicide rate, and low-income countries have the lowest suicide rate and make up 12% of the global suicide rate. "
   ]
  },
  {
   "cell_type": "markdown",
   "metadata": {},
   "source": [
    "### Gender Differences in Suicide Rates "
   ]
  },
  {
   "cell_type": "markdown",
   "metadata": {},
   "source": [
    "Next, I'll see the relationship between male and female suicide rates around the world and compare the two. "
   ]
  },
  {
   "cell_type": "markdown",
   "metadata": {},
   "source": [
    "The data that I will be using to pull this is from the World Health Organization, located [here](http://apps.who.int/gho/data/view.sdg.3-4-data-reg?lang=en). I've pulled it down to my local computer for ease of use."
   ]
  },
  {
   "cell_type": "code",
   "execution_count": 49,
   "metadata": {
    "scrolled": true
   },
   "outputs": [
    {
     "data": {
      "text/html": [
       "<div>\n",
       "<style scoped>\n",
       "    .dataframe tbody tr th:only-of-type {\n",
       "        vertical-align: middle;\n",
       "    }\n",
       "\n",
       "    .dataframe tbody tr th {\n",
       "        vertical-align: top;\n",
       "    }\n",
       "\n",
       "    .dataframe thead th {\n",
       "        text-align: right;\n",
       "    }\n",
       "</style>\n",
       "<table border=\"1\" class=\"dataframe\">\n",
       "  <thead>\n",
       "    <tr style=\"text-align: right;\">\n",
       "      <th></th>\n",
       "      <th>WHO region</th>\n",
       "      <th>Male</th>\n",
       "      <th>Female</th>\n",
       "    </tr>\n",
       "  </thead>\n",
       "  <tbody>\n",
       "    <tr>\n",
       "      <th>0</th>\n",
       "      <td>Africa</td>\n",
       "      <td>9.9</td>\n",
       "      <td>4.8</td>\n",
       "    </tr>\n",
       "    <tr>\n",
       "      <th>1</th>\n",
       "      <td>Americas</td>\n",
       "      <td>15.1</td>\n",
       "      <td>4.6</td>\n",
       "    </tr>\n",
       "    <tr>\n",
       "      <th>2</th>\n",
       "      <td>South-East Asia</td>\n",
       "      <td>14.8</td>\n",
       "      <td>11.6</td>\n",
       "    </tr>\n",
       "    <tr>\n",
       "      <th>3</th>\n",
       "      <td>Europe</td>\n",
       "      <td>24.7</td>\n",
       "      <td>6.6</td>\n",
       "    </tr>\n",
       "    <tr>\n",
       "      <th>4</th>\n",
       "      <td>Eastern Mediterranean</td>\n",
       "      <td>5.1</td>\n",
       "      <td>2.7</td>\n",
       "    </tr>\n",
       "    <tr>\n",
       "      <th>5</th>\n",
       "      <td>Western Pacific</td>\n",
       "      <td>10.9</td>\n",
       "      <td>9.4</td>\n",
       "    </tr>\n",
       "    <tr>\n",
       "      <th>6</th>\n",
       "      <td>(WHO) Global</td>\n",
       "      <td>13.5</td>\n",
       "      <td>7.7</td>\n",
       "    </tr>\n",
       "  </tbody>\n",
       "</table>\n",
       "</div>"
      ],
      "text/plain": [
       "              WHO region  Male  Female\n",
       "0                 Africa   9.9     4.8\n",
       "1               Americas  15.1     4.6\n",
       "2        South-East Asia  14.8    11.6\n",
       "3                 Europe  24.7     6.6\n",
       "4  Eastern Mediterranean   5.1     2.7\n",
       "5        Western Pacific  10.9     9.4\n",
       "6           (WHO) Global  13.5     7.7"
      ]
     },
     "execution_count": 49,
     "metadata": {},
     "output_type": "execute_result"
    }
   ],
   "source": [
    "suicide_2016 = pd.read_csv('suicide2016.csv', header=0)\n",
    "suicide_2016"
   ]
  },
  {
   "cell_type": "code",
   "execution_count": 50,
   "metadata": {
    "scrolled": true
   },
   "outputs": [
    {
     "data": {
      "text/plain": [
       "Text(0.5, 0, 'Region')"
      ]
     },
     "execution_count": 50,
     "metadata": {},
     "output_type": "execute_result"
    },
    {
     "data": {
      "image/png": "[encoded data removed]",
      "text/plain": [
       "<Figure size 432x288 with 1 Axes>"
      ]
     },
     "metadata": {
      "needs_background": "light"
     },
     "output_type": "display_data"
    }
   ],
   "source": [
    "suicide_2016.head().plot.bar(x='WHO region', y=['Male', 'Female'])\n",
    "plt. ylabel('Crude suicide rates (per 100,000 population)')\n",
    "plt.title('Sucide Rates in 2016')\n",
    "plt.xlabel('Region')"
   ]
  },
  {
   "cell_type": "markdown",
   "metadata": {},
   "source": [
    "The bar plot above indicates that in every region the male suicide rate is higher than the female suicide rate. We can also see that Europe has the highest male suicide rate compared to the rest of the world, whereas South-East Asia has the highest female suicide rate. Furthermore, the Eastern Mediterranean seems to have the lowest sucide rate for both males and females. "
   ]
  },
  {
   "cell_type": "markdown",
   "metadata": {},
   "source": [
    "#### Two-Sample Test for Suicide Rates between Males & Females: "
   ]
  },
  {
   "cell_type": "markdown",
   "metadata": {},
   "source": [
    "We are testing to see if there is a significant (not due to chance) difference in average suicide rates between males and females. The null hypothesis (H0) is that there is no difference between the two rates. The alternative hypothesis (H1) is that there is a difference in average suicide rates between males and females. "
   ]
  },
  {
   "cell_type": "markdown",
   "metadata": {},
   "source": [
    "Below are the two means and variance of male and female suicide rates:"
   ]
  },
  {
   "cell_type": "code",
   "execution_count": 7,
   "metadata": {},
   "outputs": [
    {
     "name": "stdout",
     "output_type": "stream",
     "text": [
      "13.428571428571429\n",
      "36.65571428571428\n"
     ]
    }
   ],
   "source": [
    "#mean and variance of male suicide rates\n",
    "a = suicide_2016['Male']\n",
    "print(np.mean(a))\n",
    "print(np.var(a, ddof=1))"
   ]
  },
  {
   "cell_type": "code",
   "execution_count": 8,
   "metadata": {},
   "outputs": [
    {
     "name": "stdout",
     "output_type": "stream",
     "text": [
      "6.771428571428572\n",
      "9.382380952380952\n"
     ]
    }
   ],
   "source": [
    "#mean and variance of female suicide rates\n",
    "b = suicide_2016['Female']\n",
    "print(np.mean(b))\n",
    "print(np.var(b, ddof=1))"
   ]
  },
  {
   "cell_type": "markdown",
   "metadata": {},
   "source": [
    "The difference in means between the two rates is about -6.571. "
   ]
  },
  {
   "cell_type": "code",
   "execution_count": 27,
   "metadata": {},
   "outputs": [
    {
     "data": {
      "text/plain": [
       "-6.657142857142857"
      ]
     },
     "execution_count": 27,
     "metadata": {},
     "output_type": "execute_result"
    }
   ],
   "source": [
    "#difference in mean suicide rates between males and females\n",
    "np.mean(b) - np.mean(a)"
   ]
  },
  {
   "cell_type": "markdown",
   "metadata": {},
   "source": [
    "Below is the pooled variance of the two suicide rates:"
   ]
  },
  {
   "cell_type": "code",
   "execution_count": 17,
   "metadata": {},
   "outputs": [
    {
     "data": {
      "text/plain": [
       "6.576870748299318"
      ]
     },
     "execution_count": 17,
     "metadata": {},
     "output_type": "execute_result"
    }
   ],
   "source": [
    "#pooled variance of the two rates\n",
    "def custom_pooled_variance(a, b):\n",
    "    return ((((len(a) - 1) * np.var(a, ddof=1)) + ((len(b) - 1) * np.var(b, ddof=1))) / (len(a) + len(b) - 2)) * ((1/len(a)) + 1/len(b))\n",
    "\n",
    "pooled_var = custom_pooled_variance(a, b)\n",
    "pooled_var"
   ]
  },
  {
   "cell_type": "markdown",
   "metadata": {},
   "source": [
    "And below is the pooled standard deviation of the two suicide rates:"
   ]
  },
  {
   "cell_type": "code",
   "execution_count": 18,
   "metadata": {},
   "outputs": [
    {
     "data": {
      "text/plain": [
       "2.5645410404786504"
      ]
     },
     "execution_count": 18,
     "metadata": {},
     "output_type": "execute_result"
    }
   ],
   "source": [
    "#pooled standard deviation of the two rates\n",
    "np.sqrt(pooled_var)"
   ]
  },
  {
   "cell_type": "markdown",
   "metadata": {},
   "source": [
    "Using the CDF function below to see the percentile of our sample mean, we can rejct the null hypothesis that the two samples have the same mean."
   ]
  },
  {
   "cell_type": "code",
   "execution_count": 22,
   "metadata": {},
   "outputs": [
    {
     "data": {
      "text/plain": [
       "2.488493244273148e-08"
      ]
     },
     "execution_count": 22,
     "metadata": {},
     "output_type": "execute_result"
    }
   ],
   "source": [
    "stats.t(loc=0, scale=np.sqrt(pooled_var), df=8).cdf(-50)"
   ]
  },
  {
   "cell_type": "markdown",
   "metadata": {},
   "source": [
    "Below is a two-sided test done by the module in stats to see if the mean between males and females are different: "
   ]
  },
  {
   "cell_type": "code",
   "execution_count": 24,
   "metadata": {},
   "outputs": [
    {
     "data": {
      "text/plain": [
       "Ttest_indResult(statistic=2.5958418103148606, pvalue=0.023404595984351167)"
      ]
     },
     "execution_count": 24,
     "metadata": {},
     "output_type": "execute_result"
    }
   ],
   "source": [
    "stats.ttest_ind(a, b)"
   ]
  },
  {
   "cell_type": "markdown",
   "metadata": {},
   "source": [
    "The results indicate that there is a statistically significant difference between the mean suicide rates for males and females (t = 2.595, p = 0.023) because the p-value is less than 0.05. In other words, males (13.43) have a statistically significantly higher mean sucide rate mean than females (6.77)."
   ]
  },
  {
   "cell_type": "markdown",
   "metadata": {},
   "source": [
    "Below is a T-distribution with a mean of 0 and our pooled standard deviation, along with 8 degrees of freedom (our combined number of samples minus 2). \n",
    "\n",
    "The test can also be evaluated using a rejection region, similar to a regular hypothesis test. If the mean difference is less than the the shaded region in the T-distribution, we will have to reject the null hypothesis that there is no difference in average suicide rates between males and females. "
   ]
  },
  {
   "cell_type": "code",
   "execution_count": 15,
   "metadata": {},
   "outputs": [
    {
     "data": {
      "text/plain": [
       "Text(0.5, 0.92, 'T-Distribution of Difference Between Mean Suicide Rate in Males & Females')"
      ]
     },
     "execution_count": 15,
     "metadata": {},
     "output_type": "execute_result"
    },
    {
     "data": {
      "image/png": "[encoded data removed]",
      "text/plain": [
       "<Figure size 720x720 with 1 Axes>"
      ]
     },
     "metadata": {
      "needs_background": "light"
     },
     "output_type": "display_data"
    }
   ],
   "source": [
    "dist = stats.t(loc=0, scale=np.sqrt(pooled_var), df=8)\n",
    "fig = plt.figure(figsize=(10,10))\n",
    "x = np.linspace(dist.ppf(0.0001), dist.ppf(0.9999), 100)\n",
    "plt.plot(x, dist.pdf(x))\n",
    "plt.plot([dist.ppf(0.05), dist.ppf(0.05)],[0, dist.pdf(dist.ppf(0.05))], linestyle='dotted', color='#1f77b4')\n",
    "X_fill = np.linspace(dist.ppf(0.0001), dist.ppf(0.05))\n",
    "Y = dist.pdf(X_fill)\n",
    "plt.fill_between(X_fill, 0, Y, facecolor='red')\n",
    "plt.ylim(bottom=0)\n",
    "plt.xlabel('Difference in Means')\n",
    "plt.ylabel('Probability Density Function')\n",
    "fig.suptitle('T-Distribution of Difference Between Mean Suicide Rate in Males & Females', fontsize=15, y=0.92)"
   ]
  },
  {
   "cell_type": "markdown",
   "metadata": {},
   "source": [
    "The figure above shows that the difference between the two mean suicide rates is in the shaded region and below the threshold. Thus, we will have to reject the null hypotheis and accept the alternative hypothesis that the difference is statistically significant.   "
   ]
  },
  {
   "cell_type": "markdown",
   "metadata": {},
   "source": [
    "### Conclusion"
   ]
  },
  {
   "cell_type": "markdown",
   "metadata": {},
   "source": [
    "The data above can be used to explain why certain continents/regions have higher suicide rates. Income can be a factor to these high suicide rates and may explain why Euopre has the highest suicide rate. Furthemore, we can conclude that the difference between suicide rates in males and females is significant. We as society can come to a conclusion as to why this. Perhaps, toxic mascuilinity may have a huge factor in this gender difference becasue men tend to \"hide their feelings.\" \n",
    "\n",
    "Suicide should be discussed more often, so the stigma around it can be removed. If you are dealing with suicidal thoughts you can receive immediate help by visiting suicide.org, or by calling 1-800-SUICIDE in the US."
   ]
  }
 ],
 "metadata": {
  "kernelspec": {
   "display_name": "Python 3",
   "language": "python",
   "name": "python3"
  },
  "language_info": {
   "codemirror_mode": {
    "name": "ipython",
    "version": 3
   },
   "file_extension": ".py",
   "mimetype": "text/x-python",
   "name": "python",
   "nbconvert_exporter": "python",
   "pygments_lexer": "ipython3",
   "version": "3.7.1"
  }
 },
 "nbformat": 4,
 "nbformat_minor": 2
}
